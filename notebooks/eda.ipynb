{
 "cells": [
  {
   "cell_type": "code",
   "execution_count": 1,
   "id": "5592f6a2-579b-46c9-bdee-466e25d9eff8",
   "metadata": {},
   "outputs": [],
   "source": [
    "import seaborn as sns"
   ]
  },
  {
   "cell_type": "code",
   "execution_count": 2,
   "id": "0c2bcd9e-59b8-4f3f-bbc2-2fcaf281c23b",
   "metadata": {},
   "outputs": [],
   "source": [
    "import matplotlib.pyplot as plt"
   ]
  },
  {
   "cell_type": "code",
   "execution_count": 3,
   "id": "b13680f9-8682-4704-a451-2e4c3991d411",
   "metadata": {},
   "outputs": [
    {
     "name": "stdout",
     "output_type": "stream",
     "text": [
      "['.ipynb_checkpoints', 'desktop.ini', 'tmdb_5000_credits.csv', 'tmdb_5000_movies.csv']\n"
     ]
    }
   ],
   "source": [
    "import pandas as pd\n",
    "import numpy as np\n",
    "import ast  # для перетворення рядків у списки\n",
    "import os\n",
    "\n",
    "# 📌 Перевіряємо файли у папці\n",
    "print(os.listdir('../data'))"
   ]
  },
  {
   "cell_type": "code",
   "execution_count": 4,
   "id": "17fdd19c-d8c4-4bca-a408-69c4347b87fd",
   "metadata": {},
   "outputs": [],
   "source": [
    "# Завантажуємо обидва датасети\n",
    "movies_df = pd.read_csv('../data/tmdb_5000_movies.csv')\n",
    "credits_df = pd.read_csv('../data/tmdb_5000_credits.csv')"
   ]
  },
  {
   "cell_type": "code",
   "execution_count": 5,
   "id": "148010b7-cff2-4612-8e80-a116ae1ec805",
   "metadata": {},
   "outputs": [
    {
     "name": "stdout",
     "output_type": "stream",
     "text": [
      "(4803, 20)\n",
      "(4803, 4)\n"
     ]
    }
   ],
   "source": [
    "# Дивимось їх розміри\n",
    "print(movies_df.shape)\n",
    "print(credits_df.shape)\n"
   ]
  },
  {
   "cell_type": "code",
   "execution_count": 6,
   "id": "2a3a4edf-b16b-4d6f-b20d-16c327801fa1",
   "metadata": {},
   "outputs": [
    {
     "name": "stdout",
     "output_type": "stream",
     "text": [
      "Index(['budget', 'genres', 'homepage', 'id', 'keywords', 'original_language',\n",
      "       'original_title', 'overview', 'popularity', 'production_companies',\n",
      "       'production_countries', 'release_date', 'revenue', 'runtime',\n",
      "       'spoken_languages', 'status', 'tagline', 'title', 'vote_average',\n",
      "       'vote_count'],\n",
      "      dtype='object')\n",
      "Index(['movie_id', 'title', 'cast', 'crew'], dtype='object')\n"
     ]
    }
   ],
   "source": [
    "print(movies_df.columns)\n",
    "print(credits_df.columns)"
   ]
  },
  {
   "cell_type": "code",
   "execution_count": 7,
   "id": "289df9e9-1de6-4715-a4ff-463442f82a43",
   "metadata": {},
   "outputs": [],
   "source": [
    "# З'єднуємо їх по id / movie_id\n",
    "# У movies — 'id', у credits — 'movie_id'\n",
    "movies_df = movies_df.merge(credits_df, left_on='id', right_on='movie_id')"
   ]
  },
  {
   "cell_type": "code",
   "execution_count": 8,
   "id": "d3baa92c-2602-4fae-bb56-9f5f6bba38b7",
   "metadata": {},
   "outputs": [
    {
     "name": "stdout",
     "output_type": "stream",
     "text": [
      "(4803, 24)\n"
     ]
    }
   ],
   "source": [
    "# Перевіримо розмір після об'єднання\n",
    "print(movies_df.shape)"
   ]
  },
  {
   "cell_type": "code",
   "execution_count": 9,
   "id": "cb1ec31c-4446-47b1-9cb1-4d72c4828e40",
   "metadata": {},
   "outputs": [
    {
     "name": "stdout",
     "output_type": "stream",
     "text": [
      "0\n"
     ]
    }
   ],
   "source": [
    "# Шукаємо дублікати\n",
    "print(movies_df.duplicated().sum())"
   ]
  },
  {
   "cell_type": "code",
   "execution_count": 10,
   "id": "c6ce5145-5526-4ed8-b7ed-4499f7644845",
   "metadata": {},
   "outputs": [],
   "source": [
    "# Видаляємо дублікати\n",
    "movies_df.drop_duplicates(inplace=True)"
   ]
  },
  {
   "cell_type": "code",
   "execution_count": 11,
   "id": "4e95c601-a9a4-48c1-a832-5de4631eb0ce",
   "metadata": {
    "scrolled": true
   },
   "outputs": [
    {
     "name": "stdout",
     "output_type": "stream",
     "text": [
      "budget                     0\n",
      "genres                     0\n",
      "homepage                3091\n",
      "id                         0\n",
      "keywords                   0\n",
      "original_language          0\n",
      "original_title             0\n",
      "overview                   3\n",
      "popularity                 0\n",
      "production_companies       0\n",
      "production_countries       0\n",
      "release_date               1\n",
      "revenue                    0\n",
      "runtime                    2\n",
      "spoken_languages           0\n",
      "status                     0\n",
      "tagline                  844\n",
      "title_x                    0\n",
      "vote_average               0\n",
      "vote_count                 0\n",
      "movie_id                   0\n",
      "title_y                    0\n",
      "cast                       0\n",
      "crew                       0\n",
      "dtype: int64\n"
     ]
    }
   ],
   "source": [
    "# Перевіримо пропуски\n",
    "print(movies_df.isnull().sum())"
   ]
  },
  {
   "cell_type": "code",
   "execution_count": 12,
   "id": "c06efaef-ffeb-430a-a0ad-31cf9cda23cb",
   "metadata": {
    "scrolled": true
   },
   "outputs": [],
   "source": [
    "# Приберемо пропуски у важливих колонках (overview замінимо на пустий рядок)\n",
    "movies_df['overview'] = movies_df['overview'].fillna('')"
   ]
  },
  {
   "cell_type": "code",
   "execution_count": 13,
   "id": "6b553568-3b60-44f8-9d3a-a2163b1a3c20",
   "metadata": {},
   "outputs": [
    {
     "name": "stdout",
     "output_type": "stream",
     "text": [
      "Index(['budget', 'genres', 'homepage', 'id', 'keywords', 'original_language',\n",
      "       'original_title', 'overview', 'popularity', 'production_companies',\n",
      "       'production_countries', 'release_date', 'revenue', 'runtime',\n",
      "       'spoken_languages', 'status', 'tagline', 'title_x', 'vote_average',\n",
      "       'vote_count', 'movie_id', 'title_y', 'cast', 'crew'],\n",
      "      dtype='object')\n"
     ]
    }
   ],
   "source": [
    "print(movies_df.columns)"
   ]
  },
  {
   "cell_type": "code",
   "execution_count": 14,
   "id": "9293c244-1ab0-40a3-ab6d-7de272310bc6",
   "metadata": {},
   "outputs": [],
   "source": [
    "# Використаємо 'title_x' (з movies)\n",
    "movies_df = movies_df.rename(columns={'title_x': 'title'})\n"
   ]
  },
  {
   "cell_type": "code",
   "execution_count": 15,
   "id": "da94af2d-af35-453d-9c09-845b46450193",
   "metadata": {},
   "outputs": [
    {
     "data": {
      "text/html": [
       "<div>\n",
       "<style scoped>\n",
       "    .dataframe tbody tr th:only-of-type {\n",
       "        vertical-align: middle;\n",
       "    }\n",
       "\n",
       "    .dataframe tbody tr th {\n",
       "        vertical-align: top;\n",
       "    }\n",
       "\n",
       "    .dataframe thead th {\n",
       "        text-align: right;\n",
       "    }\n",
       "</style>\n",
       "<table border=\"1\" class=\"dataframe\">\n",
       "  <thead>\n",
       "    <tr style=\"text-align: right;\">\n",
       "      <th></th>\n",
       "      <th>title</th>\n",
       "      <th>genres</th>\n",
       "      <th>overview</th>\n",
       "      <th>vote_average</th>\n",
       "      <th>popularity</th>\n",
       "    </tr>\n",
       "  </thead>\n",
       "  <tbody>\n",
       "    <tr>\n",
       "      <th>0</th>\n",
       "      <td>Avatar</td>\n",
       "      <td>[{\"id\": 28, \"name\": \"Action\"}, {\"id\": 12, \"nam...</td>\n",
       "      <td>In the 22nd century, a paraplegic Marine is di...</td>\n",
       "      <td>7.2</td>\n",
       "      <td>150.437577</td>\n",
       "    </tr>\n",
       "    <tr>\n",
       "      <th>1</th>\n",
       "      <td>Pirates of the Caribbean: At World's End</td>\n",
       "      <td>[{\"id\": 12, \"name\": \"Adventure\"}, {\"id\": 14, \"...</td>\n",
       "      <td>Captain Barbossa, long believed to be dead, ha...</td>\n",
       "      <td>6.9</td>\n",
       "      <td>139.082615</td>\n",
       "    </tr>\n",
       "    <tr>\n",
       "      <th>2</th>\n",
       "      <td>Spectre</td>\n",
       "      <td>[{\"id\": 28, \"name\": \"Action\"}, {\"id\": 12, \"nam...</td>\n",
       "      <td>A cryptic message from Bond’s past sends him o...</td>\n",
       "      <td>6.3</td>\n",
       "      <td>107.376788</td>\n",
       "    </tr>\n",
       "    <tr>\n",
       "      <th>3</th>\n",
       "      <td>The Dark Knight Rises</td>\n",
       "      <td>[{\"id\": 28, \"name\": \"Action\"}, {\"id\": 80, \"nam...</td>\n",
       "      <td>Following the death of District Attorney Harve...</td>\n",
       "      <td>7.6</td>\n",
       "      <td>112.312950</td>\n",
       "    </tr>\n",
       "    <tr>\n",
       "      <th>4</th>\n",
       "      <td>John Carter</td>\n",
       "      <td>[{\"id\": 28, \"name\": \"Action\"}, {\"id\": 12, \"nam...</td>\n",
       "      <td>John Carter is a war-weary, former military ca...</td>\n",
       "      <td>6.1</td>\n",
       "      <td>43.926995</td>\n",
       "    </tr>\n",
       "  </tbody>\n",
       "</table>\n",
       "</div>"
      ],
      "text/plain": [
       "                                      title  \\\n",
       "0                                    Avatar   \n",
       "1  Pirates of the Caribbean: At World's End   \n",
       "2                                   Spectre   \n",
       "3                     The Dark Knight Rises   \n",
       "4                               John Carter   \n",
       "\n",
       "                                              genres  \\\n",
       "0  [{\"id\": 28, \"name\": \"Action\"}, {\"id\": 12, \"nam...   \n",
       "1  [{\"id\": 12, \"name\": \"Adventure\"}, {\"id\": 14, \"...   \n",
       "2  [{\"id\": 28, \"name\": \"Action\"}, {\"id\": 12, \"nam...   \n",
       "3  [{\"id\": 28, \"name\": \"Action\"}, {\"id\": 80, \"nam...   \n",
       "4  [{\"id\": 28, \"name\": \"Action\"}, {\"id\": 12, \"nam...   \n",
       "\n",
       "                                            overview  vote_average  popularity  \n",
       "0  In the 22nd century, a paraplegic Marine is di...           7.2  150.437577  \n",
       "1  Captain Barbossa, long believed to be dead, ha...           6.9  139.082615  \n",
       "2  A cryptic message from Bond’s past sends him o...           6.3  107.376788  \n",
       "3  Following the death of District Attorney Harve...           7.6  112.312950  \n",
       "4  John Carter is a war-weary, former military ca...           6.1   43.926995  "
      ]
     },
     "execution_count": 15,
     "metadata": {},
     "output_type": "execute_result"
    }
   ],
   "source": [
    "# Подивимось кілька фільмів\n",
    "movies_df[['title', 'genres', 'overview', 'vote_average', 'popularity']].head()"
   ]
  },
  {
   "cell_type": "code",
   "execution_count": 16,
   "id": "05a00e24-3f73-47bb-8ee8-796ab7421585",
   "metadata": {},
   "outputs": [
    {
     "data": {
      "image/png": "[encoded data removed]",
      "text/plain": [
       "<Figure size 640x480 with 1 Axes>"
      ]
     },
     "metadata": {},
     "output_type": "display_data"
    }
   ],
   "source": [
    "# Гістограма vote_average\n",
    "plt.hist(movies_df['vote_average'], bins=20)\n",
    "plt.title('Розподіл середніх оцінок фільмів')\n",
    "plt.xlabel('Оцінка')\n",
    "plt.ylabel('Кількість фільмів')\n",
    "plt.show()"
   ]
  },
  {
   "cell_type": "code",
   "execution_count": 17,
   "id": "d77a8767-7bb7-415a-ab1e-ef50c2f5c4d2",
   "metadata": {
    "scrolled": true
   },
   "outputs": [
    {
     "data": {
      "image/png": "[encoded data removed]",
      "text/plain": [
       "<Figure size 640x480 with 1 Axes>"
      ]
     },
     "metadata": {},
     "output_type": "display_data"
    }
   ],
   "source": [
    "# Гістограма тривалості\n",
    "plt.hist(movies_df['runtime'].dropna(), bins=20, color='orange')\n",
    "plt.title('Розподіл тривалості фільмів')\n",
    "plt.xlabel('Хвилини')\n",
    "plt.ylabel('Кількість фільмів')\n",
    "plt.show()"
   ]
  },
  {
   "cell_type": "code",
   "execution_count": 18,
   "id": "e60d9270-73ca-4abd-bdb0-6ede2f3ad2c4",
   "metadata": {},
   "outputs": [],
   "source": [
    "def convert(obj):\n",
    "    L=[]\n",
    "    for i in ast.literal_eval(obj):\n",
    "        L.append(i['name'])\n",
    "        return L"
   ]
  },
  {
   "cell_type": "code",
   "execution_count": 19,
   "id": "db7fb5fe-04cc-402a-8c82-bd07f5c6f9eb",
   "metadata": {
    "scrolled": true
   },
   "outputs": [],
   "source": [
    "movies_df['genres'] = movies_df['genres'].apply(convert)"
   ]
  },
  {
   "cell_type": "code",
   "execution_count": 20,
   "id": "bd96a532-92a3-4d95-a95c-4975fea5dbe4",
   "metadata": {},
   "outputs": [],
   "source": [
    "movies_df['keywords'] = movies_df['keywords'].apply(convert)"
   ]
  },
  {
   "cell_type": "code",
   "execution_count": 21,
   "id": "f1383ca9-b87a-4755-8c63-bf6b9c18c543",
   "metadata": {},
   "outputs": [],
   "source": [
    "def get_top_actors(obj):\n",
    "    L=[]\n",
    "    for i in ast.literal_eval(obj)[:3]:\n",
    "        L.append(i['name'])\n",
    "        return L"
   ]
  },
  {
   "cell_type": "code",
   "execution_count": 22,
   "id": "78ea0a08-b37e-480b-8226-3eac7100233c",
   "metadata": {
    "scrolled": true
   },
   "outputs": [],
   "source": [
    "movies_df['cast'] = movies_df['cast'].apply(get_top_actors)"
   ]
  },
  {
   "cell_type": "code",
   "execution_count": 23,
   "id": "43bd9625-2e8c-45c1-ab24-052145f50bce",
   "metadata": {},
   "outputs": [],
   "source": [
    "# Витягнемо режисера\n",
    "def get_director(obj):\n",
    "    for i in ast.literal_eval(obj):\n",
    "        if i['job'] == 'Director':\n",
    "            return i['name']\n",
    "    return np.nan\n"
   ]
  },
  {
   "cell_type": "code",
   "execution_count": 24,
   "id": "bda5d7e8-5df8-439b-8eef-9052d183c1c8",
   "metadata": {},
   "outputs": [],
   "source": [
    "movies_df['director'] = movies_df['crew'].apply(get_director)"
   ]
  },
  {
   "cell_type": "code",
   "execution_count": null,
   "id": "4cb7be8d-4ea3-4e7a-b9c7-faedaa5a32fe",
   "metadata": {},
   "outputs": [],
   "source": []
  },
  {
   "cell_type": "code",
   "execution_count": 25,
   "id": "35d11207-25e1-40c2-9bdd-86718d92f79d",
   "metadata": {},
   "outputs": [],
   "source": [
    "# Дата релізу в рік\n",
    "movies_df['release_date'] = pd.to_datetime(movies_df['release_date'], errors='coerce')\n",
    "movies_df['release_year'] = movies_df['release_date'].dt.year\n",
    "\n",
    "# Довжина опису\n",
    "movies_df['overview_length'] = movies_df['overview'].apply(lambda x: len(x.split()))\n",
    "\n",
    "# Кількість жанрів\n",
    "movies_df['genre_count'] = movies_df['genres'].apply(lambda x: len(x) if isinstance(x, list) else 0)\n",
    "\n",
    "# Кількість keywords\n",
    "movies_df['keyword_count'] = movies_df['keywords'].apply(lambda x: len(x) if isinstance(x, list) else 0)"
   ]
  },
  {
   "cell_type": "code",
   "execution_count": 28,
   "id": "3100ce4c-c458-43b2-b0f9-fefc5b0b45c9",
   "metadata": {},
   "outputs": [],
   "source": [
    "def clean_join(L):\n",
    "    return \" \".join(L) if isinstance(L, list) else \"\""
   ]
  },
  {
   "cell_type": "code",
   "execution_count": 29,
   "id": "dc4e0ca4-1cba-4d64-ae32-80c8e75aa763",
   "metadata": {},
   "outputs": [
    {
     "data": {
      "text/html": [
       "<div>\n",
       "<style scoped>\n",
       "    .dataframe tbody tr th:only-of-type {\n",
       "        vertical-align: middle;\n",
       "    }\n",
       "\n",
       "    .dataframe tbody tr th {\n",
       "        vertical-align: top;\n",
       "    }\n",
       "\n",
       "    .dataframe thead th {\n",
       "        text-align: right;\n",
       "    }\n",
       "</style>\n",
       "<table border=\"1\" class=\"dataframe\">\n",
       "  <thead>\n",
       "    <tr style=\"text-align: right;\">\n",
       "      <th></th>\n",
       "      <th>movie_id</th>\n",
       "      <th>title</th>\n",
       "      <th>tags</th>\n",
       "      <th>vote_average</th>\n",
       "      <th>popularity</th>\n",
       "      <th>runtime</th>\n",
       "      <th>release_year</th>\n",
       "    </tr>\n",
       "  </thead>\n",
       "  <tbody>\n",
       "    <tr>\n",
       "      <th>0</th>\n",
       "      <td>19995</td>\n",
       "      <td>Avatar</td>\n",
       "      <td>In the 22nd century, a paraplegic Marine is di...</td>\n",
       "      <td>7.2</td>\n",
       "      <td>150.437577</td>\n",
       "      <td>162.0</td>\n",
       "      <td>2009.0</td>\n",
       "    </tr>\n",
       "    <tr>\n",
       "      <th>1</th>\n",
       "      <td>285</td>\n",
       "      <td>Pirates of the Caribbean: At World's End</td>\n",
       "      <td>Captain Barbossa, long believed to be dead, ha...</td>\n",
       "      <td>6.9</td>\n",
       "      <td>139.082615</td>\n",
       "      <td>169.0</td>\n",
       "      <td>2007.0</td>\n",
       "    </tr>\n",
       "    <tr>\n",
       "      <th>2</th>\n",
       "      <td>206647</td>\n",
       "      <td>Spectre</td>\n",
       "      <td>A cryptic message from Bond’s past sends him o...</td>\n",
       "      <td>6.3</td>\n",
       "      <td>107.376788</td>\n",
       "      <td>148.0</td>\n",
       "      <td>2015.0</td>\n",
       "    </tr>\n",
       "    <tr>\n",
       "      <th>3</th>\n",
       "      <td>49026</td>\n",
       "      <td>The Dark Knight Rises</td>\n",
       "      <td>Following the death of District Attorney Harve...</td>\n",
       "      <td>7.6</td>\n",
       "      <td>112.312950</td>\n",
       "      <td>165.0</td>\n",
       "      <td>2012.0</td>\n",
       "    </tr>\n",
       "    <tr>\n",
       "      <th>4</th>\n",
       "      <td>49529</td>\n",
       "      <td>John Carter</td>\n",
       "      <td>John Carter is a war-weary, former military ca...</td>\n",
       "      <td>6.1</td>\n",
       "      <td>43.926995</td>\n",
       "      <td>132.0</td>\n",
       "      <td>2012.0</td>\n",
       "    </tr>\n",
       "  </tbody>\n",
       "</table>\n",
       "</div>"
      ],
      "text/plain": [
       "   movie_id                                     title  \\\n",
       "0     19995                                    Avatar   \n",
       "1       285  Pirates of the Caribbean: At World's End   \n",
       "2    206647                                   Spectre   \n",
       "3     49026                     The Dark Knight Rises   \n",
       "4     49529                               John Carter   \n",
       "\n",
       "                                                tags  vote_average  \\\n",
       "0  In the 22nd century, a paraplegic Marine is di...           7.2   \n",
       "1  Captain Barbossa, long believed to be dead, ha...           6.9   \n",
       "2  A cryptic message from Bond’s past sends him o...           6.3   \n",
       "3  Following the death of District Attorney Harve...           7.6   \n",
       "4  John Carter is a war-weary, former military ca...           6.1   \n",
       "\n",
       "   popularity  runtime  release_year  \n",
       "0  150.437577    162.0        2009.0  \n",
       "1  139.082615    169.0        2007.0  \n",
       "2  107.376788    148.0        2015.0  \n",
       "3  112.312950    165.0        2012.0  \n",
       "4   43.926995    132.0        2012.0  "
      ]
     },
     "execution_count": 29,
     "metadata": {},
     "output_type": "execute_result"
    }
   ],
   "source": [
    "# Формуємо tags з об’єднаних текстових ознак\n",
    "\n",
    "movies_df['genres'] = movies_df['genres'].apply(clean_join)\n",
    "movies_df['keywords'] = movies_df['keywords'].apply(clean_join)\n",
    "movies_df['cast'] = movies_df['cast'].apply(clean_join)\n",
    "\n",
    "# Об’єднуємо все в tags\n",
    "movies_df['tags'] = movies_df['overview'] + \" \" + movies_df['genres'] + \" \" + movies_df['keywords'] + \" \" + movies_df['cast'] + \" \" + movies_df['director'].fillna('')\n",
    "\n",
    "# Останній вигляд фінального датасету\n",
    "final_df = movies_df[['movie_id','title','tags','vote_average','popularity','runtime','release_year']]\n",
    "\n",
    "# Подивимось перші рядки\n",
    "final_df.head()\n"
   ]
  },
  {
   "cell_type": "code",
   "execution_count": null,
   "id": "2f8cd85c-3800-4210-9c98-357313754cc2",
   "metadata": {},
   "outputs": [],
   "source": []
  },
  {
   "cell_type": "code",
   "execution_count": 34,
   "id": "ffe3836b-261b-44ad-92bf-e288a809c377",
   "metadata": {
    "scrolled": true
   },
   "outputs": [
    {
     "data": {
      "image/png": "[encoded data removed]",
      "text/plain": [
       "<Figure size 1000x600 with 2 Axes>"
      ]
     },
     "metadata": {},
     "output_type": "display_data"
    }
   ],
   "source": [
    "plt.figure(figsize=(10,6))\n",
    "sns.heatmap(movies_df[['vote_average','popularity','runtime','overview_length','genre_count','keyword_count']].corr(), annot=True, cmap='coolwarm')\n",
    "plt.title('Кореляційна матриця')\n",
    "plt.show()"
   ]
  },
  {
   "cell_type": "code",
   "execution_count": 35,
   "id": "8497eca3-396a-4a3d-ab3a-5268b274c775",
   "metadata": {},
   "outputs": [],
   "source": [
    "final_df.to_csv('../data/processed_movies.csv', index=False)"
   ]
  }
 ],
 "metadata": {
  "kernelspec": {
   "display_name": "Python 3 (ipykernel)",
   "language": "python",
   "name": "python3"
  },
  "language_info": {
   "codemirror_mode": {
    "name": "ipython",
    "version": 3
   },
   "file_extension": ".py",
   "mimetype": "text/x-python",
   "name": "python",
   "nbconvert_exporter": "python",
   "pygments_lexer": "ipython3",
   "version": "3.13.2"
  }
 },
 "nbformat": 4,
 "nbformat_minor": 5
}
