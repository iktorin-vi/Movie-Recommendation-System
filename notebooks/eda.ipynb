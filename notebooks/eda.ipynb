{
 "cells": [
  {
   "cell_type": "markdown",
   "id": "b43862ee-810a-4e63-8b2d-fae38dc17f05",
   "metadata": {},
   "source": [
    "<h1>Exploratory data analysis</h1>"
   ]
  },
  {
   "cell_type": "markdown",
   "id": "4e694ef5-068e-4f98-96c7-7eeb21d23eda",
   "metadata": {},
   "source": [
    "<h3>Import libraries</h3>"
   ]
  },
  {
   "cell_type": "code",
   "execution_count": 1,
   "id": "0c2bcd9e-59b8-4f3f-bbc2-2fcaf281c23b",
   "metadata": {},
   "outputs": [],
   "source": [
    "import matplotlib.pyplot as plt\n",
    "import seaborn as sns"
   ]
  },
  {
   "cell_type": "code",
   "execution_count": 2,
   "id": "b13680f9-8682-4704-a451-2e4c3991d411",
   "metadata": {},
   "outputs": [],
   "source": [
    "import pandas as pd\n",
    "import numpy as np\n",
    "import ast\n",
    "import os"
   ]
  },
  {
   "cell_type": "markdown",
   "id": "72d76d06-9311-4c43-b34a-c70da067a260",
   "metadata": {},
   "source": [
    "<h3>Read files</h3>"
   ]
  },
  {
   "cell_type": "code",
   "execution_count": 3,
   "id": "17fdd19c-d8c4-4bca-a408-69c4347b87fd",
   "metadata": {},
   "outputs": [],
   "source": [
    "movies_df = pd.read_csv('../data/tmdb_5000_movies.csv')\n",
    "credits_df = pd.read_csv('../data/tmdb_5000_credits.csv')"
   ]
  },
  {
   "cell_type": "code",
   "execution_count": 4,
   "id": "148010b7-cff2-4612-8e80-a116ae1ec805",
   "metadata": {},
   "outputs": [
    {
     "name": "stdout",
     "output_type": "stream",
     "text": [
      "(4803, 20)\n",
      "(4803, 4)\n"
     ]
    }
   ],
   "source": [
    "print(movies_df.shape)\n",
    "print(credits_df.shape)\n"
   ]
  },
  {
   "cell_type": "code",
   "execution_count": 5,
   "id": "2a3a4edf-b16b-4d6f-b20d-16c327801fa1",
   "metadata": {},
   "outputs": [
    {
     "name": "stdout",
     "output_type": "stream",
     "text": [
      "Index(['budget', 'genres', 'homepage', 'id', 'keywords', 'original_language',\n",
      "       'original_title', 'overview', 'popularity', 'production_companies',\n",
      "       'production_countries', 'release_date', 'revenue', 'runtime',\n",
      "       'spoken_languages', 'status', 'tagline', 'title', 'vote_average',\n",
      "       'vote_count'],\n",
      "      dtype='object')\n",
      "Index(['movie_id', 'title', 'cast', 'crew'], dtype='object')\n"
     ]
    }
   ],
   "source": [
    "print(movies_df.columns)\n",
    "print(credits_df.columns)"
   ]
  },
  {
   "cell_type": "markdown",
   "id": "976ad76a-d222-4196-b5da-810e5dae318e",
   "metadata": {},
   "source": [
    "<h3>Merge our files</h3>"
   ]
  },
  {
   "cell_type": "markdown",
   "id": "df2c4bd1-db94-4b88-8099-058c42fdc64d",
   "metadata": {},
   "source": [
    "movies_df = movies_df.merge(credits_df, left_on='id', right_on='movie_id')"
   ]
  },
  {
   "cell_type": "code",
   "execution_count": 6,
   "id": "d3baa92c-2602-4fae-bb56-9f5f6bba38b7",
   "metadata": {},
   "outputs": [
    {
     "name": "stdout",
     "output_type": "stream",
     "text": [
      "(4803, 20)\n"
     ]
    }
   ],
   "source": [
    "print(movies_df.shape)"
   ]
  },
  {
   "cell_type": "markdown",
   "id": "77c3d1f9-8d01-44e8-93de-83e619328be2",
   "metadata": {},
   "source": [
    "<h3>Find the duplicates</h3>"
   ]
  },
  {
   "cell_type": "code",
   "execution_count": 7,
   "id": "cb1ec31c-4446-47b1-9cb1-4d72c4828e40",
   "metadata": {},
   "outputs": [
    {
     "name": "stdout",
     "output_type": "stream",
     "text": [
      "0\n"
     ]
    }
   ],
   "source": [
    "print(movies_df.duplicated().sum())"
   ]
  },
  {
   "cell_type": "markdown",
   "id": "81744535-0691-4f36-a25f-e229d6380a67",
   "metadata": {},
   "source": [
    "<h3>Check the passes</h3>"
   ]
  },
  {
   "cell_type": "code",
   "execution_count": 8,
   "id": "4e95c601-a9a4-48c1-a832-5de4631eb0ce",
   "metadata": {
    "scrolled": true
   },
   "outputs": [
    {
     "name": "stdout",
     "output_type": "stream",
     "text": [
      "budget                     0\n",
      "genres                     0\n",
      "homepage                3091\n",
      "id                         0\n",
      "keywords                   0\n",
      "original_language          0\n",
      "original_title             0\n",
      "overview                   3\n",
      "popularity                 0\n",
      "production_companies       0\n",
      "production_countries       0\n",
      "release_date               1\n",
      "revenue                    0\n",
      "runtime                    2\n",
      "spoken_languages           0\n",
      "status                     0\n",
      "tagline                  844\n",
      "title                      0\n",
      "vote_average               0\n",
      "vote_count                 0\n",
      "dtype: int64\n"
     ]
    }
   ],
   "source": [
    "print(movies_df.isnull().sum())"
   ]
  },
  {
   "cell_type": "markdown",
   "id": "09c3308c-948e-4bca-8eba-0578f6cc6f92",
   "metadata": {},
   "source": [
    "<h3>Remove the spaces and replace them with an empty line</h3>"
   ]
  },
  {
   "cell_type": "code",
   "execution_count": 9,
   "id": "c06efaef-ffeb-430a-a0ad-31cf9cda23cb",
   "metadata": {
    "scrolled": true
   },
   "outputs": [],
   "source": [
    "movies_df['overview'] = movies_df['overview'].fillna('')"
   ]
  },
  {
   "cell_type": "code",
   "execution_count": 10,
   "id": "6b553568-3b60-44f8-9d3a-a2163b1a3c20",
   "metadata": {},
   "outputs": [
    {
     "name": "stdout",
     "output_type": "stream",
     "text": [
      "Index(['budget', 'genres', 'homepage', 'id', 'keywords', 'original_language',\n",
      "       'original_title', 'overview', 'popularity', 'production_companies',\n",
      "       'production_countries', 'release_date', 'revenue', 'runtime',\n",
      "       'spoken_languages', 'status', 'tagline', 'title', 'vote_average',\n",
      "       'vote_count'],\n",
      "      dtype='object')\n"
     ]
    }
   ],
   "source": [
    "print(movies_df.columns)"
   ]
  },
  {
   "cell_type": "code",
   "execution_count": null,
   "id": "84784d6f-8d90-4b11-8b1b-6e0fd8b74dd8",
   "metadata": {},
   "outputs": [],
   "source": []
  },
  {
   "cell_type": "code",
   "execution_count": 11,
   "id": "9293c244-1ab0-40a3-ab6d-7de272310bc6",
   "metadata": {},
   "outputs": [],
   "source": [
    "\n",
    "movies_df = movies_df.rename(columns={'title_x': 'title'})\n"
   ]
  },
  {
   "cell_type": "code",
   "execution_count": 12,
   "id": "da94af2d-af35-453d-9c09-845b46450193",
   "metadata": {},
   "outputs": [
    {
     "data": {
      "text/html": [
       "<div>\n",
       "<style scoped>\n",
       "    .dataframe tbody tr th:only-of-type {\n",
       "        vertical-align: middle;\n",
       "    }\n",
       "\n",
       "    .dataframe tbody tr th {\n",
       "        vertical-align: top;\n",
       "    }\n",
       "\n",
       "    .dataframe thead th {\n",
       "        text-align: right;\n",
       "    }\n",
       "</style>\n",
       "<table border=\"1\" class=\"dataframe\">\n",
       "  <thead>\n",
       "    <tr style=\"text-align: right;\">\n",
       "      <th></th>\n",
       "      <th>title</th>\n",
       "      <th>genres</th>\n",
       "      <th>overview</th>\n",
       "      <th>vote_average</th>\n",
       "      <th>popularity</th>\n",
       "    </tr>\n",
       "  </thead>\n",
       "  <tbody>\n",
       "    <tr>\n",
       "      <th>0</th>\n",
       "      <td>Avatar</td>\n",
       "      <td>[{\"id\": 28, \"name\": \"Action\"}, {\"id\": 12, \"nam...</td>\n",
       "      <td>In the 22nd century, a paraplegic Marine is di...</td>\n",
       "      <td>7.2</td>\n",
       "      <td>150.437577</td>\n",
       "    </tr>\n",
       "    <tr>\n",
       "      <th>1</th>\n",
       "      <td>Pirates of the Caribbean: At World's End</td>\n",
       "      <td>[{\"id\": 12, \"name\": \"Adventure\"}, {\"id\": 14, \"...</td>\n",
       "      <td>Captain Barbossa, long believed to be dead, ha...</td>\n",
       "      <td>6.9</td>\n",
       "      <td>139.082615</td>\n",
       "    </tr>\n",
       "    <tr>\n",
       "      <th>2</th>\n",
       "      <td>Spectre</td>\n",
       "      <td>[{\"id\": 28, \"name\": \"Action\"}, {\"id\": 12, \"nam...</td>\n",
       "      <td>A cryptic message from Bond’s past sends him o...</td>\n",
       "      <td>6.3</td>\n",
       "      <td>107.376788</td>\n",
       "    </tr>\n",
       "    <tr>\n",
       "      <th>3</th>\n",
       "      <td>The Dark Knight Rises</td>\n",
       "      <td>[{\"id\": 28, \"name\": \"Action\"}, {\"id\": 80, \"nam...</td>\n",
       "      <td>Following the death of District Attorney Harve...</td>\n",
       "      <td>7.6</td>\n",
       "      <td>112.312950</td>\n",
       "    </tr>\n",
       "    <tr>\n",
       "      <th>4</th>\n",
       "      <td>John Carter</td>\n",
       "      <td>[{\"id\": 28, \"name\": \"Action\"}, {\"id\": 12, \"nam...</td>\n",
       "      <td>John Carter is a war-weary, former military ca...</td>\n",
       "      <td>6.1</td>\n",
       "      <td>43.926995</td>\n",
       "    </tr>\n",
       "  </tbody>\n",
       "</table>\n",
       "</div>"
      ],
      "text/plain": [
       "                                      title  \\\n",
       "0                                    Avatar   \n",
       "1  Pirates of the Caribbean: At World's End   \n",
       "2                                   Spectre   \n",
       "3                     The Dark Knight Rises   \n",
       "4                               John Carter   \n",
       "\n",
       "                                              genres  \\\n",
       "0  [{\"id\": 28, \"name\": \"Action\"}, {\"id\": 12, \"nam...   \n",
       "1  [{\"id\": 12, \"name\": \"Adventure\"}, {\"id\": 14, \"...   \n",
       "2  [{\"id\": 28, \"name\": \"Action\"}, {\"id\": 12, \"nam...   \n",
       "3  [{\"id\": 28, \"name\": \"Action\"}, {\"id\": 80, \"nam...   \n",
       "4  [{\"id\": 28, \"name\": \"Action\"}, {\"id\": 12, \"nam...   \n",
       "\n",
       "                                            overview  vote_average  popularity  \n",
       "0  In the 22nd century, a paraplegic Marine is di...           7.2  150.437577  \n",
       "1  Captain Barbossa, long believed to be dead, ha...           6.9  139.082615  \n",
       "2  A cryptic message from Bond’s past sends him o...           6.3  107.376788  \n",
       "3  Following the death of District Attorney Harve...           7.6  112.312950  \n",
       "4  John Carter is a war-weary, former military ca...           6.1   43.926995  "
      ]
     },
     "execution_count": 12,
     "metadata": {},
     "output_type": "execute_result"
    }
   ],
   "source": [
    "#look at some  films\n",
    "movies_df[['title', 'genres', 'overview', 'vote_average', 'popularity']].head()"
   ]
  },
  {
   "cell_type": "markdown",
   "id": "c702740a-735a-4560-ae74-b42f043a1dcd",
   "metadata": {},
   "source": [
    "<h3> Histogram vote_average</h3>"
   ]
  },
  {
   "cell_type": "code",
   "execution_count": 13,
   "id": "05a00e24-3f73-47bb-8ee8-796ab7421585",
   "metadata": {},
   "outputs": [
    {
     "data": {
      "image/png": "[encoded data removed]",
      "text/plain": [
       "<Figure size 640x480 with 1 Axes>"
      ]
     },
     "metadata": {},
     "output_type": "display_data"
    }
   ],
   "source": [
    "plt.hist(movies_df['vote_average'], bins=20)\n",
    "plt.title('Distribution of average movie ratings')\n",
    "plt.xlabel('Rating')\n",
    "plt.ylabel('Number of films')\n",
    "plt.show()"
   ]
  },
  {
   "cell_type": "markdown",
   "id": "68169a94-0795-4b8e-807c-635dd23d97af",
   "metadata": {},
   "source": [
    "<h3>Histogram runtime</h3>"
   ]
  },
  {
   "cell_type": "code",
   "execution_count": 14,
   "id": "958f1316-37fe-4566-a3f1-01bb201d269e",
   "metadata": {
    "scrolled": true
   },
   "outputs": [
    {
     "data": {
      "image/png": "[encoded data removed]",
      "text/plain": [
       "<Figure size 640x480 with 1 Axes>"
      ]
     },
     "metadata": {},
     "output_type": "display_data"
    }
   ],
   "source": [
    "plt.hist(movies_df['runtime'].dropna(), bins=20, color='orange')\n",
    "plt.title('A bunch of films')\n",
    "plt.xlabel('Minutes')\n",
    "plt.ylabel('Number of films')\n",
    "plt.show()"
   ]
  },
  {
   "cell_type": "markdown",
   "id": "8b7a0f39-aeba-457e-aae2-d9d7be2ab907",
   "metadata": {},
   "source": [
    "<h3>Convert str into list</h3>"
   ]
  },
  {
   "cell_type": "code",
   "execution_count": 15,
   "id": "93ff8fae-800c-4f3d-8017-75ddf37db078",
   "metadata": {},
   "outputs": [],
   "source": [
    "def convert(obj):\n",
    "    L = []\n",
    "    for i in ast.literal_eval(obj):\n",
    "        L.append(i['name'])\n",
    "    return L"
   ]
  },
  {
   "cell_type": "code",
   "execution_count": 16,
   "id": "db94f5f4-85ae-4962-b15a-f88067568ad8",
   "metadata": {
    "scrolled": true
   },
   "outputs": [],
   "source": [
    "movies_df['genres'] = movies_df['genres'].apply(convert)"
   ]
  },
  {
   "cell_type": "code",
   "execution_count": 17,
   "id": "827677e7-586d-447c-8eb6-8a48ab76e6ec",
   "metadata": {},
   "outputs": [],
   "source": [
    "movies_df['keywords'] = movies_df['keywords'].apply(convert)"
   ]
  },
  {
   "cell_type": "code",
   "execution_count": 18,
   "id": "8984695f-16d6-486c-90d9-c3e19e47d622",
   "metadata": {},
   "outputs": [],
   "source": [
    "def get_top_actors(obj):\n",
    "    L = []\n",
    "    for i in ast.literal_eval(obj)[:3]:\n",
    "        L.append(i['name'])\n",
    "    return L"
   ]
  },
  {
   "cell_type": "code",
   "execution_count": 19,
   "id": "ce7f2782-950f-495b-9b61-4a5133ee5dcf",
   "metadata": {
    "scrolled": true
   },
   "outputs": [
    {
     "ename": "KeyError",
     "evalue": "'cast'",
     "output_type": "error",
     "traceback": [
      "\u001b[31m---------------------------------------------------------------------------\u001b[39m",
      "\u001b[31mKeyError\u001b[39m                                  Traceback (most recent call last)",
      "\u001b[36mFile \u001b[39m\u001b[32m~\\AppData\\Local\\Programs\\Python\\Python313\\Lib\\site-packages\\pandas\\core\\indexes\\base.py:3805\u001b[39m, in \u001b[36mIndex.get_loc\u001b[39m\u001b[34m(self, key)\u001b[39m\n\u001b[32m   3804\u001b[39m \u001b[38;5;28;01mtry\u001b[39;00m:\n\u001b[32m-> \u001b[39m\u001b[32m3805\u001b[39m     \u001b[38;5;28;01mreturn\u001b[39;00m \u001b[38;5;28;43mself\u001b[39;49m\u001b[43m.\u001b[49m\u001b[43m_engine\u001b[49m\u001b[43m.\u001b[49m\u001b[43mget_loc\u001b[49m\u001b[43m(\u001b[49m\u001b[43mcasted_key\u001b[49m\u001b[43m)\u001b[49m\n\u001b[32m   3806\u001b[39m \u001b[38;5;28;01mexcept\u001b[39;00m \u001b[38;5;167;01mKeyError\u001b[39;00m \u001b[38;5;28;01mas\u001b[39;00m err:\n",
      "\u001b[36mFile \u001b[39m\u001b[32mindex.pyx:167\u001b[39m, in \u001b[36mpandas._libs.index.IndexEngine.get_loc\u001b[39m\u001b[34m()\u001b[39m\n",
      "\u001b[36mFile \u001b[39m\u001b[32mindex.pyx:196\u001b[39m, in \u001b[36mpandas._libs.index.IndexEngine.get_loc\u001b[39m\u001b[34m()\u001b[39m\n",
      "\u001b[36mFile \u001b[39m\u001b[32mpandas\\\\_libs\\\\hashtable_class_helper.pxi:7081\u001b[39m, in \u001b[36mpandas._libs.hashtable.PyObjectHashTable.get_item\u001b[39m\u001b[34m()\u001b[39m\n",
      "\u001b[36mFile \u001b[39m\u001b[32mpandas\\\\_libs\\\\hashtable_class_helper.pxi:7089\u001b[39m, in \u001b[36mpandas._libs.hashtable.PyObjectHashTable.get_item\u001b[39m\u001b[34m()\u001b[39m\n",
      "\u001b[31mKeyError\u001b[39m: 'cast'",
      "\nThe above exception was the direct cause of the following exception:\n",
      "\u001b[31mKeyError\u001b[39m                                  Traceback (most recent call last)",
      "\u001b[36mCell\u001b[39m\u001b[36m \u001b[39m\u001b[32mIn[19]\u001b[39m\u001b[32m, line 1\u001b[39m\n\u001b[32m----> \u001b[39m\u001b[32m1\u001b[39m movies_df[\u001b[33m'\u001b[39m\u001b[33mcast\u001b[39m\u001b[33m'\u001b[39m] = \u001b[43mmovies_df\u001b[49m\u001b[43m[\u001b[49m\u001b[33;43m'\u001b[39;49m\u001b[33;43mcast\u001b[39;49m\u001b[33;43m'\u001b[39;49m\u001b[43m]\u001b[49m.apply(get_top_actors)\n",
      "\u001b[36mFile \u001b[39m\u001b[32m~\\AppData\\Local\\Programs\\Python\\Python313\\Lib\\site-packages\\pandas\\core\\frame.py:4102\u001b[39m, in \u001b[36mDataFrame.__getitem__\u001b[39m\u001b[34m(self, key)\u001b[39m\n\u001b[32m   4100\u001b[39m \u001b[38;5;28;01mif\u001b[39;00m \u001b[38;5;28mself\u001b[39m.columns.nlevels > \u001b[32m1\u001b[39m:\n\u001b[32m   4101\u001b[39m     \u001b[38;5;28;01mreturn\u001b[39;00m \u001b[38;5;28mself\u001b[39m._getitem_multilevel(key)\n\u001b[32m-> \u001b[39m\u001b[32m4102\u001b[39m indexer = \u001b[38;5;28;43mself\u001b[39;49m\u001b[43m.\u001b[49m\u001b[43mcolumns\u001b[49m\u001b[43m.\u001b[49m\u001b[43mget_loc\u001b[49m\u001b[43m(\u001b[49m\u001b[43mkey\u001b[49m\u001b[43m)\u001b[49m\n\u001b[32m   4103\u001b[39m \u001b[38;5;28;01mif\u001b[39;00m is_integer(indexer):\n\u001b[32m   4104\u001b[39m     indexer = [indexer]\n",
      "\u001b[36mFile \u001b[39m\u001b[32m~\\AppData\\Local\\Programs\\Python\\Python313\\Lib\\site-packages\\pandas\\core\\indexes\\base.py:3812\u001b[39m, in \u001b[36mIndex.get_loc\u001b[39m\u001b[34m(self, key)\u001b[39m\n\u001b[32m   3807\u001b[39m     \u001b[38;5;28;01mif\u001b[39;00m \u001b[38;5;28misinstance\u001b[39m(casted_key, \u001b[38;5;28mslice\u001b[39m) \u001b[38;5;129;01mor\u001b[39;00m (\n\u001b[32m   3808\u001b[39m         \u001b[38;5;28misinstance\u001b[39m(casted_key, abc.Iterable)\n\u001b[32m   3809\u001b[39m         \u001b[38;5;129;01mand\u001b[39;00m \u001b[38;5;28many\u001b[39m(\u001b[38;5;28misinstance\u001b[39m(x, \u001b[38;5;28mslice\u001b[39m) \u001b[38;5;28;01mfor\u001b[39;00m x \u001b[38;5;129;01min\u001b[39;00m casted_key)\n\u001b[32m   3810\u001b[39m     ):\n\u001b[32m   3811\u001b[39m         \u001b[38;5;28;01mraise\u001b[39;00m InvalidIndexError(key)\n\u001b[32m-> \u001b[39m\u001b[32m3812\u001b[39m     \u001b[38;5;28;01mraise\u001b[39;00m \u001b[38;5;167;01mKeyError\u001b[39;00m(key) \u001b[38;5;28;01mfrom\u001b[39;00m\u001b[38;5;250m \u001b[39m\u001b[34;01merr\u001b[39;00m\n\u001b[32m   3813\u001b[39m \u001b[38;5;28;01mexcept\u001b[39;00m \u001b[38;5;167;01mTypeError\u001b[39;00m:\n\u001b[32m   3814\u001b[39m     \u001b[38;5;66;03m# If we have a listlike key, _check_indexing_error will raise\u001b[39;00m\n\u001b[32m   3815\u001b[39m     \u001b[38;5;66;03m#  InvalidIndexError. Otherwise we fall through and re-raise\u001b[39;00m\n\u001b[32m   3816\u001b[39m     \u001b[38;5;66;03m#  the TypeError.\u001b[39;00m\n\u001b[32m   3817\u001b[39m     \u001b[38;5;28mself\u001b[39m._check_indexing_error(key)\n",
      "\u001b[31mKeyError\u001b[39m: 'cast'"
     ]
    }
   ],
   "source": [
    "movies_df['cast'] = movies_df['cast'].apply(get_top_actors)\n"
   ]
  },
  {
   "cell_type": "code",
   "execution_count": null,
   "id": "a5d6f28a-0974-4703-9332-9c99a753665d",
   "metadata": {},
   "outputs": [],
   "source": [
    "def get_director(obj):\n",
    "    for i in ast.literal_eval(obj):\n",
    "        if i['job'] == 'Director':\n",
    "            return i['name']\n",
    "    return np.nan\n"
   ]
  },
  {
   "cell_type": "code",
   "execution_count": null,
   "id": "32ff5a30-d817-4c16-b156-9c02163f2ca7",
   "metadata": {},
   "outputs": [],
   "source": [
    "movies_df['director'] = movies_df['crew'].apply(get_director)"
   ]
  },
  {
   "cell_type": "code",
   "execution_count": null,
   "id": "db7fb5fe-04cc-402a-8c82-bd07f5c6f9eb",
   "metadata": {
    "scrolled": true
   },
   "outputs": [],
   "source": [
    "movies_df['genres'] = movies_df['genres'].apply(convert)"
   ]
  },
  {
   "cell_type": "code",
   "execution_count": null,
   "id": "bd96a532-92a3-4d95-a95c-4975fea5dbe4",
   "metadata": {},
   "outputs": [],
   "source": [
    "movies_df['keywords'] = movies_df['keywords'].apply(convert)"
   ]
  },
  {
   "cell_type": "code",
   "execution_count": null,
   "id": "f1383ca9-b87a-4755-8c63-bf6b9c18c543",
   "metadata": {},
   "outputs": [],
   "source": [
    "def get_top_actors(obj):\n",
    "    L=[]\n",
    "    for i in ast.literal_eval(obj)[:3]:\n",
    "        L.append(i['name'])\n",
    "        return L"
   ]
  },
  {
   "cell_type": "code",
   "execution_count": null,
   "id": "78ea0a08-b37e-480b-8226-3eac7100233c",
   "metadata": {
    "scrolled": true
   },
   "outputs": [],
   "source": [
    "movies_df['cast'] = movies_df['cast'].apply(get_top_actors)"
   ]
  },
  {
   "cell_type": "code",
   "execution_count": null,
   "id": "43bd9625-2e8c-45c1-ab24-052145f50bce",
   "metadata": {},
   "outputs": [],
   "source": [
    "def get_director(obj):\n",
    "    for i in ast.literal_eval(obj):\n",
    "        if i['job'] == 'Director':\n",
    "            return i['name']\n",
    "    return np.nan\n"
   ]
  },
  {
   "cell_type": "code",
   "execution_count": null,
   "id": "bda5d7e8-5df8-439b-8eef-9052d183c1c8",
   "metadata": {},
   "outputs": [],
   "source": [
    "movies_df['director'] = movies_df['crew'].apply(get_director)"
   ]
  },
  {
   "cell_type": "markdown",
   "id": "36c62d7d-fed6-4586-8086-b2be54056ac7",
   "metadata": {},
   "source": [
    "<h3>Creating of new features</h3>"
   ]
  },
  {
   "cell_type": "code",
   "execution_count": null,
   "id": "35d11207-25e1-40c2-9bdd-86718d92f79d",
   "metadata": {},
   "outputs": [],
   "source": [
    "# data release\n",
    "movies_df['release_date'] = pd.to_datetime(movies_df['release_date'], errors='coerce')\n",
    "movies_df['release_year'] = movies_df['release_date'].dt.year\n",
    "\n",
    "# overview length\n",
    "movies_df['overview_length'] = movies_df['overview'].fillna('').apply(lambda x: len(x.split()))\n",
    "\n",
    "# сount of genre\n",
    "movies_df['genre_count'] = movies_df['genres'].apply(lambda x: len(x) if isinstance(x, list) else 0)\n",
    "\n",
    "# count of keywords\n",
    "movies_df['keyword_count'] = movies_df['keywords'].apply(lambda x: len(x) if isinstance(x, list) else 0)"
   ]
  },
  {
   "cell_type": "code",
   "execution_count": null,
   "id": "3100ce4c-c458-43b2-b0f9-fefc5b0b45c9",
   "metadata": {},
   "outputs": [],
   "source": [
    "def clean_join(L):\n",
    "    return \" \".join(L) if isinstance(L, list) else \"\""
   ]
  },
  {
   "cell_type": "markdown",
   "id": "4b032d84-da7c-4a4f-892b-48ac395c5d28",
   "metadata": {},
   "source": [
    "<h3>Correlation analysis</h3>"
   ]
  },
  {
   "cell_type": "code",
   "execution_count": null,
   "id": "ffe3836b-261b-44ad-92bf-e288a809c377",
   "metadata": {
    "scrolled": true
   },
   "outputs": [],
   "source": [
    "plt.figure(figsize=(10,6))\n",
    "sns.heatmap(movies_df[['vote_average','popularity','runtime','overview_length','genre_count','keyword_count']].corr(), annot=True, cmap='coolwarm')\n",
    "plt.title('Кореляційна матриця')\n",
    "plt.show()"
   ]
  },
  {
   "cell_type": "markdown",
   "id": "8898d7e0-29c0-4066-af49-d08644ae788f",
   "metadata": {},
   "source": [
    "<h3>Formation of the final dataset for the model</h3>"
   ]
  },
  {
   "cell_type": "code",
   "execution_count": null,
   "id": "dc4e0ca4-1cba-4d64-ae32-80c8e75aa763",
   "metadata": {},
   "outputs": [],
   "source": [
    "\n",
    "movies_df['genres'] = movies_df['genres'].apply(clean_join)\n",
    "movies_df['keywords'] = movies_df['keywords'].apply(clean_join)\n",
    "movies_df['cast'] = movies_df['cast'].apply(clean_join)\n",
    "\n",
    "#combine everything in tags\n",
    "movies_df['tags'] = movies_df['overview'] + \" \" + movies_df['genres'] + \" \" + movies_df['keywords'] + \" \" + movies_df['cast'] + \" \" + movies_df['director'].fillna('')\n",
    "\n",
    "#view of the final dataset\n",
    "final_df = movies_df[['movie_id','title','tags','vote_average','popularity','runtime','release_year']]\n"
   ]
  },
  {
   "cell_type": "code",
   "execution_count": null,
   "id": "097c3c8e-d453-4f86-817c-33fbc14f58ea",
   "metadata": {},
   "outputs": [],
   "source": [
    "final_df.head()"
   ]
  },
  {
   "cell_type": "markdown",
   "id": "ba6f1121-f358-46d4-908c-53af40a752e7",
   "metadata": {},
   "source": [
    "<h3>Final file</h3>"
   ]
  },
  {
   "cell_type": "code",
   "execution_count": null,
   "id": "8497eca3-396a-4a3d-ab3a-5268b274c775",
   "metadata": {},
   "outputs": [],
   "source": [
    "final_df.to_csv('../data/processed_movies.csv', index=False)"
   ]
  }
 ],
 "metadata": {
  "kernelspec": {
   "display_name": "Python 3 (ipykernel)",
   "language": "python",
   "name": "python3"
  },
  "language_info": {
   "codemirror_mode": {
    "name": "ipython",
    "version": 3
   },
   "file_extension": ".py",
   "mimetype": "text/x-python",
   "name": "python",
   "nbconvert_exporter": "python",
   "pygments_lexer": "ipython3",
   "version": "3.13.2"
  }
 },
 "nbformat": 4,
 "nbformat_minor": 5
}
