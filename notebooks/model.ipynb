{
 "cells": [
  {
   "cell_type": "code",
   "execution_count": 11,
   "id": "2867e2d4-6b3c-41a5-ae41-4a12819e034a",
   "metadata": {},
   "outputs": [],
   "source": [
    "import pandas as pd"
   ]
  },
  {
   "cell_type": "code",
   "execution_count": 12,
   "id": "142f429e-cfaa-473e-865e-52a49fba8fde",
   "metadata": {},
   "outputs": [],
   "source": [
    "from sklearn.feature_extraction.text import CountVectorizer"
   ]
  },
  {
   "cell_type": "code",
   "execution_count": 13,
   "id": "13a9df43-1e20-44fe-91d6-15a01314184e",
   "metadata": {},
   "outputs": [],
   "source": [
    "from sklearn.metrics.pairwise import cosine_similarity"
   ]
  },
  {
   "cell_type": "code",
   "execution_count": 14,
   "id": "56833eac-c80f-41b4-b8da-ea4887dc0f93",
   "metadata": {},
   "outputs": [],
   "source": [
    "df = pd.read_csv('../data/processed_movies.csv')"
   ]
  },
  {
   "cell_type": "code",
   "execution_count": 16,
   "id": "9fabb11b-99e6-4985-9b9c-7dbd06d143c1",
   "metadata": {},
   "outputs": [
    {
     "name": "stdout",
     "output_type": "stream",
     "text": [
      "Index(['movie_id', 'title', 'tags', 'vote_average', 'popularity', 'runtime',\n",
      "       'release_year'],\n",
      "      dtype='object')\n"
     ]
    }
   ],
   "source": [
    "print(df.columns)"
   ]
  },
  {
   "cell_type": "code",
   "execution_count": 17,
   "id": "4ead50b5-7ecc-45d3-b6a1-384f16f91747",
   "metadata": {},
   "outputs": [],
   "source": [
    "df['soup'] = df['tags']"
   ]
  },
  {
   "cell_type": "code",
   "execution_count": 18,
   "id": "61365167-ed6c-43d8-b577-9c2d7b5cec2e",
   "metadata": {},
   "outputs": [],
   "source": [
    "vectorizer = CountVectorizer(max_features=5000, stop_words='english')\n",
    "soup_vectors = vectorizer.fit_transform(df['soup'])"
   ]
  },
  {
   "cell_type": "code",
   "execution_count": 19,
   "id": "97f99296-dad2-44ea-b84f-4aa78157c65b",
   "metadata": {},
   "outputs": [],
   "source": [
    "similarity = cosine_similarity(soup_vectors)"
   ]
  },
  {
   "cell_type": "code",
   "execution_count": 20,
   "id": "be21d2e8-c711-43cb-9c8b-39b0017734a4",
   "metadata": {},
   "outputs": [],
   "source": [
    "def recommend(movie_title):\n",
    "    movie_title = movie_title.lower()\n",
    "    if movie_title not in df['title'].str.lower().values:\n",
    "        return f\"The movie'{movie_title}' was not found in the database.\"\n",
    "        \n",
    "    index = df[df['title'].str.lower() == movie_title].index[0]\n",
    "\n",
    "    distances = list(enumerate(similarity[index]))\n",
    "    \n",
    "    movies_list = sorted(distances, key=lambda x: x[1], reverse=True)[1:6]\n",
    "\n",
    "    recommended_titles = [df.iloc[i[0]].title for i in movies_list]\n",
    "    return recommended_titles"
   ]
  },
  {
   "cell_type": "code",
   "execution_count": 30,
   "id": "206b633f-5e47-4dc5-a9c3-3586b2d20d32",
   "metadata": {},
   "outputs": [
    {
     "name": "stdout",
     "output_type": "stream",
     "text": [
      "Рекомендації до фільму 'Moon':\n",
      "['Flash Gordon', 'Apollo 18', 'I Am Sam', 'The Adventures of Pluto Nash', '2001: A Space Odyssey']\n"
     ]
    }
   ],
   "source": [
    "print(recommend(\"Moon\"))"
   ]
  },
  {
   "cell_type": "code",
   "execution_count": null,
   "id": "b98bd634-2324-455d-a37a-91d93fd03956",
   "metadata": {},
   "outputs": [],
   "source": [
    "\n"
   ]
  }
 ],
 "metadata": {
  "kernelspec": {
   "display_name": "Python 3 (ipykernel)",
   "language": "python",
   "name": "python3"
  },
  "language_info": {
   "codemirror_mode": {
    "name": "ipython",
    "version": 3
   },
   "file_extension": ".py",
   "mimetype": "text/x-python",
   "name": "python",
   "nbconvert_exporter": "python",
   "pygments_lexer": "ipython3",
   "version": "3.13.2"
  }
 },
 "nbformat": 4,
 "nbformat_minor": 5
}
