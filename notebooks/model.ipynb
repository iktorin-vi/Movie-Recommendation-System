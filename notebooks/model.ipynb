{
 "cells": [
  {
   "cell_type": "code",
   "execution_count": null,
   "id": "a092fbcf-1f04-4d61-a0f2-16969b2aa83f",
   "metadata": {},
   "outputs": [],
   "source": [
    "from utils.recommender import recommend"
   ]
  },
  {
   "cell_type": "code",
   "execution_count": 42,
   "id": "b42e2777-f9bb-4e03-ba1d-cbbeadb7e6ae",
   "metadata": {},
   "outputs": [
    {
     "name": "stdout",
     "output_type": "stream",
     "text": [
      "['Apollo 18', 'The Helix... Loaded', 'Moon', 'Tears of the Sun', 'The Assassination of Jesse James by the Coward Robert Ford']\n"
     ]
    }
   ],
   "source": [
    "print(recommend(\"Avatar\"))"
   ]
  },
  {
   "cell_type": "code",
   "execution_count": null,
   "id": "54c9784f-e957-4a9f-a542-d906402ecb72",
   "metadata": {},
   "outputs": [],
   "source": []
  }
 ],
 "metadata": {
  "kernelspec": {
   "display_name": "Python 3 (ipykernel)",
   "language": "python",
   "name": "python3"
  },
  "language_info": {
   "codemirror_mode": {
    "name": "ipython",
    "version": 3
   },
   "file_extension": ".py",
   "mimetype": "text/x-python",
   "name": "python",
   "nbconvert_exporter": "python",
   "pygments_lexer": "ipython3",
   "version": "3.13.2"
  }
 },
 "nbformat": 4,
 "nbformat_minor": 5
}
